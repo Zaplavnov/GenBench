{
 "cells": [
  {
   "cell_type": "code",
   "execution_count": 1,
   "metadata": {},
   "outputs": [
    {
     "name": "stderr",
     "output_type": "stream",
     "text": [
      "/liuzicheng/anaconda3/envs/evo-design/lib/python3.11/site-packages/cooltools/lib/numutils.py:1376: RuntimeWarning: invalid value encountered in divide\n",
      "  val_cur = ar_cur / armask_cur\n"
     ]
    },
    {
     "data": {
      "text/plain": [
       "<matplotlib.colorbar.Colorbar at 0x7fbbfbb97790>"
      ]
     },
     "execution_count": 1,
     "metadata": {},
     "output_type": "execute_result"
    },
    {
     "data": {
      "image/png": "[encoded data removed]",
      "text/plain": [
       "<Figure size 640x480 with 2 Axes>"
      ]
     },
     "metadata": {},
     "output_type": "display_data"
    }
   ],
   "source": [
    "orca_path='/genomic_structure/train/log/orca/weight/model_orcah1esc_a_orca20240512_104757.checkpoint'\n",
    "hyena_path='/genomic_structure/train/log/hyena/weight/model_hyenah1esc_a20240515_065813.checkpoint'\n",
    "mamba_path='/genomic_structure/train/log/mamba/weight/model_mambah1esc_a20240512_150132.checkpoint'\n",
    "import sys\n",
    "sys.path.append('/src/dataloaders')\n",
    "from selene_utils2 import *\n",
    "from matplotlib import pyplot as plt\n",
    "batch_size=5\n",
    "max_length=6000\n",
    "dest_path='/genomic_structure/resources/resources'\n",
    "t = Genomic2DFeatures(\n",
    "            [dest_path + \"/4DNFI9GMP2J8.rebinned.mcool::/resolutions/1000\"],\n",
    "            [\"r1000\"],\n",
    "            (int(max_length/1000), int(max_length/1000)),\n",
    "            cg=True,\n",
    "        )\n",
    "\n",
    "sampler = RandomPositionsSamplerHiC(\n",
    "            reference_sequence=MemmapGenome(\n",
    "                input_path=dest_path + \"/Homo_sapiens.GRCh38.dna.primary_assembly.fa\",\n",
    "                memmapfile=dest_path + \"/Homo_sapiens.GRCh38.dna.primary_assembly.fa.mmap\",\n",
    "                blacklist_regions=\"hg38\",\n",
    "            ),\n",
    "            target=t,\n",
    "            # target_1d=MultibinGenomicFeatures(\n",
    "            #     self.dest_path + \"/h1esc/h1esc.hg38.bed.sorted.gz\",\n",
    "            #     np.loadtxt(self.dest_path + \"/h1esc/h1esc.hg38.bed.sorted.features\", str),\n",
    "            #     1000,\n",
    "            #     1000,\n",
    "            #     (32, 10),\n",
    "            #     mode=\"any\",\n",
    "            # ),\n",
    "            features=[\"r1000\"],\n",
    "            test_holdout=[\"chr9\", \"chr10\"],\n",
    "            validation_holdout=[\"chr8\"],\n",
    "            sequence_length=6000,\n",
    "            position_resolution=1000,\n",
    "            random_shift=100,\n",
    "            random_strand=False,\n",
    "            cross_chromosome=False,\n",
    "        )\n",
    "sampler.mode = \"validate\"\n",
    "for i in range(10):\n",
    "    sampled_data = sampler.sample(batch_size=batch_size)\n",
    "\n",
    "    while np.isnan(sampled_data[1]).any():\n",
    "                sampled_data = sampler.sample(batch_size=batch_size)\n",
    "\n",
    "# print(sampled_data)\n",
    "plt.imshow(sampled_data[1][0, :, :],cmap = 'Spectral_r')   \n",
    "plt.colorbar()\n"
   ]
  },
  {
   "cell_type": "code",
   "execution_count": 2,
   "metadata": {},
   "outputs": [],
   "source": [
    "sequence=sampled_data[0]\n",
    "target=sampled_data[1]\n",
    "target=torch.from_numpy(target).float().cuda()\n",
    "sequence_b=np.zeros((sequence.shape[0],sequence.shape[1]))\n",
    "mask=np.where(sequence==0.25)\n",
    "sequence_b=sequence.argmax(axis=2)\n",
    "sequence_b[[mask[0],mask[1]]]=4\n",
    "sequence=sequence_b\n",
    "map_to_genomic_sequence = {0: 'A', 1: 'C', 2: 'G', 3: 'T', 4: 'N'}\n",
    "#map sequence to genome \n",
    "sequence = \"\".join(map(lambda x: map_to_genomic_sequence[x], sequence.flatten().tolist()))\n",
    "#reshape list\n",
    "# sequence = np.array(list(sequence)).reshape(batch_size,-1)\n",
    "from scipy.stats import pearsonr\n",
    "def genomic_structure_corr(logit,y,ignore_index=-100):\n",
    "\n",
    "\n",
    "    pred=logit\n",
    "    target=y\n",
    "    normmat_bydist = np.exp(\n",
    "        np.load(\"/orca/resources/resources/4DNFI9GMP2J8.rebinned.mcool.expected.res1000.npy\")        \n",
    "\n",
    "    )[:10]\n",
    "    normmat = normmat_bydist[np.abs(np.arange(6)[:, None] - np.arange(6)[None, :])]\n",
    "    normmat_r = torch.from_numpy(normmat).float().cuda()\n",
    "    eps = torch.min(normmat_r)\n",
    "    target = torch.log(((target + eps) / (normmat_r + eps)))\n",
    "    corr=[]\n",
    "    #convert to numpy\n",
    "    target=target.cpu().numpy().reshape((pred.shape[0], -1))\n",
    "    pred=pred.detach().cpu().numpy().reshape((pred.shape[0], -1))\n",
    "    for j in range(pred.shape[0]):\n",
    "            if np.mean(np.isnan(target[j, :])) < 0.7:\n",
    "                corr.append(\n",
    "                    pearsonr(\n",
    "                        pred[j, ~np.isnan(target[j, :])],\n",
    "                        target[j, ~np.isnan(target[j, :])],\n",
    "                    )[0]\n",
    "                )\n",
    "            else:\n",
    "                corr.append(np.nan)\n",
    "    corr=np.nanmean(corr)\n",
    "    return corr\n",
    "def genomic_structure_mse(logit,y,ignore_index=-100):\n",
    "\n",
    "    pred=logit\n",
    "    target=y\n",
    "    if torch.isnan(target).all():\n",
    "        target=torch.rand_like(target)\n",
    "\n",
    "    normmat_bydist = np.exp(\n",
    "        np.load(\"/orca/resources/resources/4DNFI9GMP2J8.rebinned.mcool.expected.res1000.npy\")\n",
    "\n",
    "    )[:8]\n",
    "    normmat = normmat_bydist[np.abs(np.arange(6)[:, None] - np.arange(6)[None, :])]\n",
    "    normmat_r = torch.from_numpy(normmat).float().cuda()\n",
    "    eps = torch.min(normmat_r)\n",
    "    target = torch.nanmean(\n",
    "                torch.nanmean(torch.reshape(target, (target.shape[0], 6, 1, 6, 1)), axis=4),\n",
    "                axis=2,\n",
    "            )\n",
    "    target_r = torch.log(((target + eps) / (normmat_r + eps)))\n",
    "    target_cuda = target_r\n",
    "\n",
    "    loss = (\n",
    "        (\n",
    "            pred[~torch.isnan(target)]\n",
    "            - target_cuda[~torch.isnan(target)]\n",
    "        )\n",
    "        ** 2\n",
    "    ).mean()\n",
    "\n",
    "\n",
    "\n",
    "    return loss"
   ]
  },
  {
   "cell_type": "code",
   "execution_count": 3,
   "metadata": {},
   "outputs": [
    {
     "name": "stderr",
     "output_type": "stream",
     "text": [
      "/liuzicheng/anaconda3/envs/evo-design/lib/python3.11/site-packages/tqdm/auto.py:21: TqdmWarning: IProgress not found. Please update jupyter and ipywidgets. See https://ipywidgets.readthedocs.io/en/stable/user_install.html\n",
      "  from .autonotebook import tqdm as notebook_tqdm\n",
      "/liuzicheng/anaconda3/envs/evo-design/lib/python3.11/site-packages/torch/utils/checkpoint.py:460: UserWarning: torch.utils.checkpoint: please pass in use_reentrant=True or use_reentrant=False explicitly. The default value of use_reentrant will be updated to be False in the future. To maintain current behavior, pass use_reentrant=True. It is recommended that you use use_reentrant=False. Refer to docs for more details on the differences between the two variants.\n",
      "  warnings.warn(\n"
     ]
    },
    {
     "name": "stdout",
     "output_type": "stream",
     "text": [
      "0.44457690769237895\n",
      "tensor(0.0177, device='cuda:0', grad_fn=<MeanBackward0>)\n"
     ]
    },
    {
     "data": {
      "text/plain": [
       "<matplotlib.image.AxesImage at 0x7fbb972d3250>"
      ]
     },
     "execution_count": 3,
     "metadata": {},
     "output_type": "execute_result"
    },
    {
     "data": {
      "image/png": "[encoded data removed]",
      "text/plain": [
       "<Figure size 640x480 with 1 Axes>"
      ]
     },
     "metadata": {},
     "output_type": "display_data"
    }
   ],
   "source": [
    "import sys\n",
    "\n",
    "from src.models.sequence.orca import Orca\n",
    "orca_model=Orca().to('cuda')\n",
    "seq_ids =torch.from_numpy(sampled_data[0]).squeeze(0)\n",
    "seq_ids = seq_ids.float().to('cuda')\n",
    "target = torch.from_numpy(sampled_data[1]).squeeze(0)\n",
    "target = target.float().to('cuda')\n",
    "\n",
    "checkpoint=torch.load(orca_path)\n",
    "\n",
    "torch.nn.modules.utils.consume_prefix_in_state_dict_if_present(\n",
    "            checkpoint, \"module.\"\n",
    "        )\n",
    "\n",
    "orca_model.load_state_dict(checkpoint,strict=False)\n",
    "\n",
    "prediction,_=orca_model(seq_ids)\n",
    "\n",
    "corr=genomic_structure_corr(prediction,target)\n",
    "print(corr)\n",
    "mse=genomic_structure_mse(prediction,target)\n",
    "print(mse)\n",
    "\n",
    "#plot prediction as image\n",
    "import matplotlib.pyplot as plt\n",
    "import numpy as np\n",
    "\n",
    "plt.imshow(prediction.cpu().detach().numpy()[0])\n",
    "\n",
    "\n",
    "\n",
    "\n"
   ]
  },
  {
   "cell_type": "code",
   "execution_count": 4,
   "metadata": {},
   "outputs": [
    {
     "name": "stdout",
     "output_type": "stream",
     "text": [
      "0.43569863597676173\n",
      "tensor(0.0184, device='cuda:0')\n"
     ]
    },
    {
     "data": {
      "text/plain": [
       "<matplotlib.colorbar.Colorbar at 0x7fbb94f31f10>"
      ]
     },
     "execution_count": 4,
     "metadata": {},
     "output_type": "execute_result"
    },
    {
     "data": {
      "image/png": "[encoded data removed]",
      "text/plain": [
       "<Figure size 640x480 with 2 Axes>"
      ]
     },
     "metadata": {},
     "output_type": "display_data"
    }
   ],
   "source": [
    "#import autotokenizer\n",
    "from transformers import AutoTokenizer,AutoModel\n",
    "import torch\n",
    "from torch import nn\n",
    "\n",
    "from model.hyena import Hyena\n",
    "\n",
    "with torch.no_grad():\n",
    "    hyena_tokenizer=AutoTokenizer.from_pretrained(\"/weight/hyenadna/hyenadna-large-1m-seqlen\",trust_remote_code=True)\n",
    "    hyena_model=Hyena(pretrained_weight='/weight/hyenadna/hyenadna-large-1m-seqlen',max_length=6000).to('cuda')\n",
    "    full_sequence=[]\n",
    "    checkpoint=torch.load(hyena_path)\n",
    "    # torch.nn.modules.utils.consume_prefix_in_state_dict_if_present(\n",
    "    #         checkpoint, \"model.backbone.\"\n",
    "    #     )\n",
    "    # torch.nn.modules.utils.consume_prefix_in_state_dict_if_present(\n",
    "    #         checkpoint, \"decoder.0.length_transform_2.\"\n",
    "    #     )\n",
    "\n",
    "    #edit key name in hyena_decoder\n",
    "    \n",
    "    hyena_model.load_state_dict(checkpoint)\n",
    "    hyena_model.eval()\n",
    "\n",
    "    sequence_encoded=hyena_tokenizer(sequence,\n",
    "                        add_special_tokens= False,  # this is what controls adding eos\n",
    "                        padding=\"max_length\",\n",
    "                        max_length=max_length*batch_size,\n",
    "                        truncation=True,\n",
    "                    )\n",
    "\n",
    "\n",
    "    sequence_tensor=torch.tensor(sequence_encoded['input_ids']).to('cuda')\n",
    "    sequence_tensor=torch.reshape(sequence_tensor,(batch_size,max_length))\n",
    "    mat_hyena=hyena_model(sequence_tensor)\n",
    "\n",
    "    #calculate the \n",
    "    corr=genomic_structure_corr(mat_hyena,target)\n",
    "    print(corr)\n",
    "    mse=genomic_structure_mse(mat_hyena,target)\n",
    "    print(mse)\n",
    "from matplotlib import pyplot as plt\n",
    "def figshow(x, np=False):\n",
    "        if np:\n",
    "            plt.imshow(x.squeeze())\n",
    "        else:\n",
    "            plt.imshow(x.squeeze().cpu().detach().numpy())\n",
    "        #remove boudary\n",
    "        plt.axis('off')\n",
    "        plt.show()\n",
    "#plot the target and predicted genomic structure\n",
    "# figure,(axes1, axes2, axes3, axes4, axes5)=plt.subplots(1, 5,figsize=(20,5))\n",
    "# axes1.imshow(target[0].squeeze().cpu().detach().numpy())\n",
    "# axes1.axis('off')\n",
    "# axes1\n",
    "\n",
    "plt.imshow(mat_hyena[0].cpu().detach().numpy(),cmap = 'Spectral_r')\n",
    "plt.colorbar()"
   ]
  },
  {
   "cell_type": "code",
   "execution_count": 5,
   "metadata": {},
   "outputs": [
    {
     "name": "stdout",
     "output_type": "stream",
     "text": [
      "0.5025163932008324\n",
      "tensor(0.0168, device='cuda:0')\n"
     ]
    },
    {
     "data": {
      "text/plain": [
       "<matplotlib.colorbar.Colorbar at 0x7fbb94c049d0>"
      ]
     },
     "execution_count": 5,
     "metadata": {},
     "output_type": "execute_result"
    },
    {
     "data": {
      "image/png": "[encoded data removed]",
      "text/plain": [
       "<Figure size 640x480 with 2 Axes>"
      ]
     },
     "metadata": {},
     "output_type": "display_data"
    }
   ],
   "source": [
    "#import autotokenizer\n",
    "from transformers import AutoTokenizer,AutoModel\n",
    "import torch\n",
    "from torch import nn\n",
    "from model.mamba import Mamba\n",
    "\n",
    "with torch.no_grad():\n",
    "    Mamba_tokenizer=AutoTokenizer.from_pretrained(\"/weight/mamba/caduceus-ph_seqlen-131k_d_model-256_n_layer-16\",trust_remote_code=True)\n",
    "    Mamba_model=Mamba(pretrained_weight='/weight/mamba/caduceus-ph_seqlen-131k_d_model-256_n_layer-16',max_length=6000).to('cuda')\n",
    "    full_sequence=[]\n",
    "    checkpoint=torch.load(mamba_path)\n",
    "    # torch.nn.modules.utils.consume_prefix_in_state_dict_if_present(\n",
    "    #         checkpoint, \"model.backbone.\"\n",
    "    #     )\n",
    "    # torch.nn.modules.utils.consume_prefix_in_state_dict_if_present(\n",
    "    #         checkpoint, \"decoder.0.length_transform_2.\"\n",
    "    #     )\n",
    "\n",
    "    #edit key name in hyena_decoder\n",
    "    \n",
    "    Mamba_model.load_state_dict(checkpoint)\n",
    "    Mamba_model.eval()\n",
    "\n",
    "    sequence_encoded=Mamba_tokenizer(sequence,\n",
    "                        add_special_tokens= False,  # this is what controls adding eos\n",
    "                        padding=\"max_length\",\n",
    "                        max_length=max_length*batch_size,\n",
    "                        truncation=True,\n",
    "                    )\n",
    "\n",
    "\n",
    "    sequence_tensor=torch.tensor(sequence_encoded['input_ids']).to('cuda')\n",
    "    sequence_tensor=torch.reshape(sequence_tensor,(batch_size,max_length))\n",
    "    mat_mamba=Mamba_model(sequence_tensor)\n",
    "\n",
    "    #calculate the \n",
    "    corr=genomic_structure_corr(mat_mamba,target)\n",
    "    print(corr)\n",
    "    mse=genomic_structure_mse(mat_mamba,target)\n",
    "    print(mse)\n",
    "from matplotlib import pyplot as plt\n",
    "def figshow(x, np=False):\n",
    "        if np:\n",
    "            plt.imshow(x.squeeze())\n",
    "        else:\n",
    "            plt.imshow(x.squeeze().cpu().detach().numpy())\n",
    "        #remove boudary\n",
    "        plt.axis('off')\n",
    "        plt.show()\n",
    "#plot the target and predicted genomic structure\n",
    "# figure,(axes1, axes2, axes3, axes4, axes5)=plt.subplots(1, 5,figsize=(20,5))\n",
    "# axes1.imshow(target[0].squeeze().cpu().detach().numpy())\n",
    "# axes1.axis('off')\n",
    "# axes1\n",
    "\n",
    "plt.imshow(mat_hyena[0].cpu().detach().numpy(),cmap = 'Spectral_r')\n",
    "plt.colorbar()"
   ]
  },
  {
   "cell_type": "code",
   "execution_count": 6,
   "metadata": {},
   "outputs": [
    {
     "data": {
      "image/png": "[encoded data removed]",
      "text/plain": [
       "<Figure size 640x480 with 25 Axes>"
      ]
     },
     "metadata": {},
     "output_type": "display_data"
    }
   ],
   "source": [
    "#plot nxn image\n",
    "rows = ['GT','Orca','Caduceus','Hyena-DNA']\n",
    "out_collection=[]\n",
    "normmat_bydist = np.exp(\n",
    "                np.load(\"/resources/resources/4DNFI9GMP2J8.rebinned.mcool.expected.res1000.npy\")\n",
    "            )[:6]\n",
    "normmat = normmat_bydist[np.abs(np.arange(6)[:, None] - np.arange(6)[None, :])]\n",
    "normmat_r = torch.from_numpy(normmat).float().cuda()\n",
    "eps = torch.min(normmat_r)\n",
    "target_r=torch.log(((target + eps) / (normmat_r + eps)))\n",
    "out_collection.append(target_r.cpu().detach().numpy())\n",
    "out_collection.append(prediction.cpu().detach().numpy())\n",
    "out_collection.append(mat_mamba.cpu().detach().numpy())\n",
    "out_collection.append(mat_hyena.cpu().detach().numpy())\n",
    "_min, _max = np.amin(out_collection), np.amax(out_collection)\n",
    "fig,axes = plt.subplots(4,5)\n",
    "for ax, row in zip(axes[:,0], rows):\n",
    "    ax2 = ax.twinx()\n",
    "    ax2.yaxis.set_label_position('left')\n",
    "    ax2.spines['left'].set_visible(False)\n",
    "    ax2.spines['right'].set_visible(False)\n",
    "    ax2.spines['top'].set_visible(False)\n",
    "    ax2.spines['bottom'].set_visible(False)\n",
    "    #set ticks invisible\n",
    "    ax2.tick_params(axis='both', which='both', length=0)\n",
    "    ax2.set_yticks([])\n",
    "    ax2.set_ylabel(row, rotation=0, size='large',\n",
    "                   ha='right', va='center')\n",
    "for i in range(4):\n",
    "    for j in range(5):\n",
    "        ax_n=axes[i,j].imshow(out_collection[i][j], vmin = _min, vmax = _max)\n",
    "        axes[i,j].axis('off')\n",
    "        axes[i,j].autoscale(False)\n",
    "fig.colorbar(ax_n,ax=axes,orientation='vertical')\n",
    "\n",
    "plt.suptitle('Genomic Structure Prediction for H1-ESC',fontsize=13,y=0.95,fontweight='bold')\n",
    "plt.show()\n",
    "        #show value bar\n",
    "#save plt as pdf\n",
    "fig.savefig('/assets/genomic_structure_h1esc.pdf',dpi=300,bbox_inches='tight')\n",
    "fig.savefig('/assets/genomic_structure_h1esc.png',dpi=300,bbox_inches='tight')"
   ]
  }
 ],
 "metadata": {
  "kernelspec": {
   "display_name": "Python 3",
   "language": "python",
   "name": "python3"
  },
  "language_info": {
   "codemirror_mode": {
    "name": "ipython",
    "version": 3
   },
   "file_extension": ".py",
   "mimetype": "text/x-python",
   "name": "python",
   "nbconvert_exporter": "python",
   "pygments_lexer": "ipython3",
   "version": "3.11.8"
  }
 },
 "nbformat": 4,
 "nbformat_minor": 2
}
