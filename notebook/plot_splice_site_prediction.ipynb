{
 "cells": [
  {
   "cell_type": "code",
   "execution_count": 5,
   "metadata": {},
   "outputs": [],
   "source": [
    "\n",
    "import os\n",
    "import numpy as np\n",
    "import matplotlib.pyplot as plt\n",
    "split = \"test\"\n",
    "dest_path = \"data/splicing_prediction\"\n",
    "all_seqs = np.load(os.path.join(dest_path,  split + \"_seq.npy\"), allow_pickle=True)\n",
    "all_labels = np.load(os.path.join(dest_path,  split + \"_target.npy\"), allow_pickle=True)\n"
   ]
  },
  {
   "cell_type": "code",
   "execution_count": 6,
   "metadata": {},
   "outputs": [],
   "source": [
    "hyena_path='outputs/2024-04-03/15-12-52-724312/checkpoints/val/pr_auc_mean.ckpt'\n",
    "mamba_path='outputs/2024-04-20/02-29-01-651292/checkpoints/val/pr_auc_mean.ckpt'\n",
    "NT_path='outputs/2024-04-08/01-41-26-952782/checkpoints/val/pr_auc_mean.ckpt'\n",
    "genalm_path='outputs/2024-04-06/11-21-47-532494/checkpoints/val/pr_auc_mean.ckpt'\n",
    "bert2_path='outputs/2024-04-02/18-41-34-140615/checkpoints/val/pr_auc_mean.ckpt'\n",
    "batch_size=1\n",
    "max_length=3000\n",
    "\n",
    "import torch\n",
    "from sklearn.metrics import f1_score, roc_auc_score\n",
    "def pr_auc(logits,y):\n",
    "    # compute metrics based on stored labels, predictions, ...\n",
    "    metrics = {}\n",
    "    y, p = y, torch.sigmoid(logits)\n",
    "    #convert three dimension into 2 dimension\n",
    "    y=y.reshape(-1,y.shape[-1]).cpu().numpy()\n",
    "    p=p.reshape(-1,p.shape[-1]).cpu().detach().numpy()\n",
    "    # compute pr-auc for each class independetly\n",
    "    for label in [0, 1, 2]:\n",
    "        y_label = y[:, label]\n",
    "        p_label = p[:, label]\n",
    "        if not np.isnan(p_label).any():\n",
    "            try:\n",
    "                pr_auc = roc_auc_score(y_label, p_label)\n",
    "            except ValueError:\n",
    "                #calculate accurate rate for this label\n",
    "                #convert p_label to 0-1\n",
    "                p_label = (p_label > 0.5).astype(int)\n",
    "                accurate_rate = (y_label == p_label).sum() / len(y_label)\n",
    "                #if accurate rate is 1, set pr_auc to 1\n",
    "                pr_auc = accurate_rate\n",
    "        else:\n",
    "            pr_auc = np.nan\n",
    "        # to be compatible with sklearn 1.1+\n",
    "        metrics[f'pr_auc_{label}'] = pr_auc if not np.isnan(pr_auc) else 0.0\n",
    "    metrics['pr_auc_mean'] = (metrics['pr_auc_1'] + metrics['pr_auc_2']) / 2\n",
    "    return metrics\n",
    "\n",
    "def f1_micro(logits, y):\n",
    "    logits = logits.view(-1, logits.shape[-1])\n",
    "    y = y.view(-1)\n",
    "    y_hat = torch.argmax(logits, dim=-1)\n",
    "    return f1_score(y.cpu().numpy(), y_hat.cpu().numpy(), average=\"micro\")"
   ]
  },
  {
   "cell_type": "code",
   "execution_count": 32,
   "metadata": {},
   "outputs": [
    {
     "name": "stderr",
     "output_type": "stream",
     "text": [
      "/tmp/ipykernel_8534/2253030854.py:48: UserWarning: To copy construct from a tensor, it is recommended to use sourceTensor.clone().detach() or sourceTensor.clone().detach().requires_grad_(True), rather than torch.tensor(sourceTensor).\n",
      "  sequence_tensor=torch.tensor(seqs).to('cuda')\n",
      "/tmp/ipykernel_8534/2253030854.py:49: UserWarning: To copy construct from a tensor, it is recommended to use sourceTensor.clone().detach() or sourceTensor.clone().detach().requires_grad_(True), rather than torch.tensor(sourceTensor).\n",
      "  target_tensor=torch.tensor(targets).to('cuda')\n"
     ]
    },
    {
     "data": {
      "image/png": "[encoded data removed]",
      "text/plain": [
       "<Figure size 640x480 with 1 Axes>"
      ]
     },
     "metadata": {},
     "output_type": "display_data"
    }
   ],
   "source": [
    "#import autotokenizer\n",
    "from transformers import AutoTokenizer,AutoModel\n",
    "import torch\n",
    "from torch import nn\n",
    "x_axs=[]\n",
    "for i in range(5000):\n",
    "    x_axs.append(i)\n",
    "with torch.no_grad():\n",
    "    hyena_tokenizer=AutoTokenizer.from_pretrained(\"weight/hyenadna/hyenadna-large-1m-seqlen\",trust_remote_code=True)\n",
    "    hyena_model=AutoModel.from_pretrained(\"weight/hyenadna/hyenadna-large-1m-seqlen\",trust_remote_code=True).to('cuda')\n",
    "    full_sequence=[]\n",
    "    checkpoint=torch.load(hyena_path)['state_dict']\n",
    "    torch.nn.modules.utils.consume_prefix_in_state_dict_if_present(\n",
    "            checkpoint, \"model.backbone.\"\n",
    "        )\n",
    "    torch.nn.modules.utils.consume_prefix_in_state_dict_if_present(\n",
    "            checkpoint, \"decoder.0.length_transform_2.\"\n",
    "        )\n",
    "\n",
    "    hyena_decoder = nn.Linear(256,3,bias=False).to('cuda')\n",
    "    #edit key name in hyena_decoder\n",
    "    state_dict=hyena_decoder.state_dict()\n",
    "    \n",
    "    hyena_model.load_state_dict(checkpoint,strict=False)\n",
    "    hyena_decoder.load_state_dict(checkpoint,strict=False)\n",
    "    hyena_model.eval()\n",
    "    hyena_decoder.eval()\n",
    "\n",
    "    seqs=[]\n",
    "    targets=[]\n",
    "    for i in range(batch_size):\n",
    "        sequence_encoded=hyena_tokenizer(all_seqs[2],\n",
    "                            add_special_tokens= False,  # this is what controls adding eos\n",
    "                            padding=\"max_length\",\n",
    "                            max_length=max_length,\n",
    "                            truncation=True,\n",
    "                        )\n",
    "        seq_ids=sequence_encoded['input_ids']\n",
    "        seq_ids = torch.LongTensor(seq_ids)\n",
    "        target = all_labels[6][:5000,:]\n",
    "        target = torch.LongTensor(target)\n",
    "        seqs.append(seq_ids)\n",
    "        targets.append(target)\n",
    "        \n",
    "    seqs=torch.stack(seqs)\n",
    "\n",
    "    targets=torch.stack(targets)\n",
    "    sequence_tensor=torch.tensor(seqs).to('cuda')\n",
    "    target_tensor=torch.tensor(targets).to('cuda')\n",
    "\n",
    "    hidden_states=hyena_model(sequence_tensor)['last_hidden_state']\n",
    "    output=hidden_states[..., :1000, :]\n",
    "    out1=hyena_decoder(output)\n",
    "\n",
    "\n",
    "    #calculate the \n",
    "    # auc_roc=pr_auc(targets,out1)\n",
    "    # print(auc_roc)\n",
    "    #plot the\n",
    "    position=targets.argmax(dim=-1)\n",
    "    plt.bar(x_axs,position[0])\n"
   ]
  }
 ],
 "metadata": {
  "kernelspec": {
   "display_name": "Python 3",
   "language": "python",
   "name": "python3"
  },
  "language_info": {
   "codemirror_mode": {
    "name": "ipython",
    "version": 3
   },
   "file_extension": ".py",
   "mimetype": "text/x-python",
   "name": "python",
   "nbconvert_exporter": "python",
   "pygments_lexer": "ipython3",
   "version": "3.11.8"
  }
 },
 "nbformat": 4,
 "nbformat_minor": 2
}
